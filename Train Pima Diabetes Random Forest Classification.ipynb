{
 "cells": [
  {
   "cell_type": "markdown",
   "metadata": {},
   "source": [
    "Import all required libraries and set Jupyter to render any matplotlib charts in line"
   ]
  },
  {
   "cell_type": "code",
   "execution_count": 46,
   "metadata": {
    "collapsed": true
   },
   "outputs": [],
   "source": [
    "%matplotlib inline\n",
    "import pandas as pd\n",
    "import numpy as np\n",
    "from sklearn.ensemble import RandomForestClassifier\n",
    "from sklearn.metrics import classification_report\n",
    "from sklearn.externals import joblib\n",
    "from sklearn import metrics\n",
    "import matplotlib.pyplot as plt"
   ]
  },
  {
   "cell_type": "markdown",
   "metadata": {},
   "source": [
    "Load in our training data into a pandas dataframe and add the appropriate titles"
   ]
  },
  {
   "cell_type": "code",
   "execution_count": 47,
   "metadata": {
    "collapsed": true
   },
   "outputs": [],
   "source": [
    "df_pima = pd.read_csv('C:/Users/nmannheimer/PycharmProjects/Code Projects/Machine Learning/pima-indians-diabetes.csv',\n",
    "                      names=('Number of times pregnant',\n",
    "                      'glucose tolerance test',\n",
    "                      'Diastolic blood pressure mm Hg',\n",
    "                      'Triceps skin fold thickness',\n",
    "                      '2-Hour serum insulin mu U/ml',\n",
    "                      'BMI',\n",
    "                      'Diabetes pedigree function',\n",
    "                      'Age',\n",
    "                      'Class'))"
   ]
  },
  {
   "cell_type": "markdown",
   "metadata": {},
   "source": [
    "Print the vital information about the dataframe"
   ]
  },
  {
   "cell_type": "code",
   "execution_count": 48,
   "metadata": {
    "collapsed": false
   },
   "outputs": [
    {
     "name": "stdout",
     "output_type": "stream",
     "text": [
      "<class 'pandas.core.frame.DataFrame'>\n",
      "RangeIndex: 768 entries, 0 to 767\n",
      "Data columns (total 9 columns):\n",
      "Number of times pregnant          768 non-null int64\n",
      "glucose tolerance test            768 non-null int64\n",
      "Diastolic blood pressure mm Hg    768 non-null int64\n",
      "Triceps skin fold thickness       768 non-null int64\n",
      "2-Hour serum insulin mu U/ml      768 non-null int64\n",
      "BMI                               768 non-null float64\n",
      "Diabetes pedigree function        768 non-null float64\n",
      "Age                               768 non-null int64\n",
      "Class                             768 non-null int64\n",
      "dtypes: float64(2), int64(7)\n",
      "memory usage: 54.1 KB\n",
      "None\n"
     ]
    }
   ],
   "source": [
    "print df_pima.info()"
   ]
  },
  {
   "cell_type": "code",
   "execution_count": 49,
   "metadata": {
    "collapsed": false
   },
   "outputs": [
    {
     "data": {
      "text/html": [
       "<div>\n",
       "<table border=\"1\" class=\"dataframe\">\n",
       "  <thead>\n",
       "    <tr style=\"text-align: right;\">\n",
       "      <th></th>\n",
       "      <th>Number of times pregnant</th>\n",
       "      <th>glucose tolerance test</th>\n",
       "      <th>Diastolic blood pressure mm Hg</th>\n",
       "      <th>Triceps skin fold thickness</th>\n",
       "      <th>2-Hour serum insulin mu U/ml</th>\n",
       "      <th>BMI</th>\n",
       "      <th>Diabetes pedigree function</th>\n",
       "      <th>Age</th>\n",
       "      <th>Class</th>\n",
       "    </tr>\n",
       "  </thead>\n",
       "  <tbody>\n",
       "    <tr>\n",
       "      <th>count</th>\n",
       "      <td>768.000000</td>\n",
       "      <td>768.000000</td>\n",
       "      <td>768.000000</td>\n",
       "      <td>768.000000</td>\n",
       "      <td>768.000000</td>\n",
       "      <td>768.000000</td>\n",
       "      <td>768.000000</td>\n",
       "      <td>768.000000</td>\n",
       "      <td>768.000000</td>\n",
       "    </tr>\n",
       "    <tr>\n",
       "      <th>mean</th>\n",
       "      <td>3.845052</td>\n",
       "      <td>120.894531</td>\n",
       "      <td>69.105469</td>\n",
       "      <td>20.536458</td>\n",
       "      <td>79.799479</td>\n",
       "      <td>31.992578</td>\n",
       "      <td>0.471876</td>\n",
       "      <td>33.240885</td>\n",
       "      <td>0.348958</td>\n",
       "    </tr>\n",
       "    <tr>\n",
       "      <th>std</th>\n",
       "      <td>3.369578</td>\n",
       "      <td>31.972618</td>\n",
       "      <td>19.355807</td>\n",
       "      <td>15.952218</td>\n",
       "      <td>115.244002</td>\n",
       "      <td>7.884160</td>\n",
       "      <td>0.331329</td>\n",
       "      <td>11.760232</td>\n",
       "      <td>0.476951</td>\n",
       "    </tr>\n",
       "    <tr>\n",
       "      <th>min</th>\n",
       "      <td>0.000000</td>\n",
       "      <td>0.000000</td>\n",
       "      <td>0.000000</td>\n",
       "      <td>0.000000</td>\n",
       "      <td>0.000000</td>\n",
       "      <td>0.000000</td>\n",
       "      <td>0.078000</td>\n",
       "      <td>21.000000</td>\n",
       "      <td>0.000000</td>\n",
       "    </tr>\n",
       "    <tr>\n",
       "      <th>25%</th>\n",
       "      <td>1.000000</td>\n",
       "      <td>99.000000</td>\n",
       "      <td>62.000000</td>\n",
       "      <td>0.000000</td>\n",
       "      <td>0.000000</td>\n",
       "      <td>27.300000</td>\n",
       "      <td>0.243750</td>\n",
       "      <td>24.000000</td>\n",
       "      <td>0.000000</td>\n",
       "    </tr>\n",
       "    <tr>\n",
       "      <th>50%</th>\n",
       "      <td>3.000000</td>\n",
       "      <td>117.000000</td>\n",
       "      <td>72.000000</td>\n",
       "      <td>23.000000</td>\n",
       "      <td>30.500000</td>\n",
       "      <td>32.000000</td>\n",
       "      <td>0.372500</td>\n",
       "      <td>29.000000</td>\n",
       "      <td>0.000000</td>\n",
       "    </tr>\n",
       "    <tr>\n",
       "      <th>75%</th>\n",
       "      <td>6.000000</td>\n",
       "      <td>140.250000</td>\n",
       "      <td>80.000000</td>\n",
       "      <td>32.000000</td>\n",
       "      <td>127.250000</td>\n",
       "      <td>36.600000</td>\n",
       "      <td>0.626250</td>\n",
       "      <td>41.000000</td>\n",
       "      <td>1.000000</td>\n",
       "    </tr>\n",
       "    <tr>\n",
       "      <th>max</th>\n",
       "      <td>17.000000</td>\n",
       "      <td>199.000000</td>\n",
       "      <td>122.000000</td>\n",
       "      <td>99.000000</td>\n",
       "      <td>846.000000</td>\n",
       "      <td>67.100000</td>\n",
       "      <td>2.420000</td>\n",
       "      <td>81.000000</td>\n",
       "      <td>1.000000</td>\n",
       "    </tr>\n",
       "  </tbody>\n",
       "</table>\n",
       "</div>"
      ],
      "text/plain": [
       "       Number of times pregnant  glucose tolerance test  \\\n",
       "count                768.000000              768.000000   \n",
       "mean                   3.845052              120.894531   \n",
       "std                    3.369578               31.972618   \n",
       "min                    0.000000                0.000000   \n",
       "25%                    1.000000               99.000000   \n",
       "50%                    3.000000              117.000000   \n",
       "75%                    6.000000              140.250000   \n",
       "max                   17.000000              199.000000   \n",
       "\n",
       "       Diastolic blood pressure mm Hg  Triceps skin fold thickness  \\\n",
       "count                      768.000000                   768.000000   \n",
       "mean                        69.105469                    20.536458   \n",
       "std                         19.355807                    15.952218   \n",
       "min                          0.000000                     0.000000   \n",
       "25%                         62.000000                     0.000000   \n",
       "50%                         72.000000                    23.000000   \n",
       "75%                         80.000000                    32.000000   \n",
       "max                        122.000000                    99.000000   \n",
       "\n",
       "       2-Hour serum insulin mu U/ml         BMI  Diabetes pedigree function  \\\n",
       "count                    768.000000  768.000000                  768.000000   \n",
       "mean                      79.799479   31.992578                    0.471876   \n",
       "std                      115.244002    7.884160                    0.331329   \n",
       "min                        0.000000    0.000000                    0.078000   \n",
       "25%                        0.000000   27.300000                    0.243750   \n",
       "50%                       30.500000   32.000000                    0.372500   \n",
       "75%                      127.250000   36.600000                    0.626250   \n",
       "max                      846.000000   67.100000                    2.420000   \n",
       "\n",
       "              Age       Class  \n",
       "count  768.000000  768.000000  \n",
       "mean    33.240885    0.348958  \n",
       "std     11.760232    0.476951  \n",
       "min     21.000000    0.000000  \n",
       "25%     24.000000    0.000000  \n",
       "50%     29.000000    0.000000  \n",
       "75%     41.000000    1.000000  \n",
       "max     81.000000    1.000000  "
      ]
     },
     "execution_count": 49,
     "metadata": {},
     "output_type": "execute_result"
    }
   ],
   "source": [
    "df_pima.describe()"
   ]
  },
  {
   "cell_type": "markdown",
   "metadata": {},
   "source": [
    "Create a training and a test set from our data where 75% of the data is used for training and 25% for test"
   ]
  },
  {
   "cell_type": "code",
   "execution_count": 50,
   "metadata": {
    "collapsed": true
   },
   "outputs": [],
   "source": [
    "df_pima['is_train'] = np.random.uniform(0, 1, len(df_pima)) <= 0.75\n",
    "train = df_pima[df_pima['is_train'] == True]\n",
    "test = df_pima[df_pima['is_train'] == False]"
   ]
  },
  {
   "cell_type": "markdown",
   "metadata": {},
   "source": [
    "Seperate our class data for the training and test sets and choose the columns of the dataframe that contain features"
   ]
  },
  {
   "cell_type": "code",
   "execution_count": 51,
   "metadata": {
    "collapsed": true
   },
   "outputs": [],
   "source": [
    "trainTargets = np.array(train['Class']).astype(int)\n",
    "testTargets = np.array(test['Class']).astype(int)\n",
    "features = df_pima.columns[0:8]"
   ]
  },
  {
   "cell_type": "markdown",
   "metadata": {},
   "source": [
    "Choose our model (a Random Forest), fit it to our training data, and generate classification predictions for our test data"
   ]
  },
  {
   "cell_type": "code",
   "execution_count": 52,
   "metadata": {
    "collapsed": false
   },
   "outputs": [],
   "source": [
    "model = RandomForestClassifier()\n",
    "predictions = model.fit(train[features], trainTargets).predict(test[features])"
   ]
  },
  {
   "cell_type": "markdown",
   "metadata": {},
   "source": [
    "Seperate and isolate the true class values and the predictions"
   ]
  },
  {
   "cell_type": "code",
   "execution_count": 53,
   "metadata": {
    "collapsed": true
   },
   "outputs": [],
   "source": [
    "results = np.array(predictions)\n",
    "scoring = np.array(testTargets)"
   ]
  },
  {
   "cell_type": "markdown",
   "metadata": {},
   "source": [
    "Generate some statistics on the effectiveness of our model"
   ]
  },
  {
   "cell_type": "code",
   "execution_count": 54,
   "metadata": {
    "collapsed": false
   },
   "outputs": [
    {
     "name": "stdout",
     "output_type": "stream",
     "text": [
      "The model produced 76.213592233% accurate predictions.\n",
      " \n",
      "             precision    recall  f1-score   support\n",
      "\n",
      "          0       0.78      0.89      0.83       133\n",
      "          1       0.72      0.53      0.61        73\n",
      "\n",
      "avg / total       0.76      0.76      0.75       206\n",
      "\n"
     ]
    }
   ],
   "source": [
    "accuracy = metrics.accuracy_score(testTargets, predictions)\n",
    "print \"The model produced {0}% accurate predictions.\".format(accuracy*100)\n",
    "print \" \"\n",
    "\n",
    "y_true = testTargets\n",
    "y_pred = results\n",
    "print(classification_report(y_true, y_pred))\n"
   ]
  },
  {
   "cell_type": "markdown",
   "metadata": {},
   "source": [
    "Use our decision tree to produce feature importance scores for our features"
   ]
  },
  {
   "cell_type": "code",
   "execution_count": 56,
   "metadata": {
    "collapsed": false
   },
   "outputs": [
    {
     "name": "stdout",
     "output_type": "stream",
     "text": [
      "What is the importance of each feature?\n",
      "('Number of times pregnant', 0.095858596426995651)\n",
      "('glucose tolerance test', 0.28595350400676661)\n",
      "('Diastolic blood pressure mm Hg', 0.093450406304404848)\n",
      "('Triceps skin fold thickness', 0.059553740138967207)\n",
      "('2-Hour serum insulin mu U/ml', 0.067736985806583605)\n",
      "('BMI', 0.13219286132219307)\n",
      "('Diabetes pedigree function', 0.14312028749088634)\n",
      "('Age', 0.12213361850320266)\n"
     ]
    }
   ],
   "source": [
    "print 'What is the importance of each feature?'\n",
    "for feat in zip(features,model.feature_importances_):\n",
    "    print feat"
   ]
  },
  {
   "cell_type": "markdown",
   "metadata": {},
   "source": [
    "Plot those importance scores"
   ]
  },
  {
   "cell_type": "code",
   "execution_count": 42,
   "metadata": {
    "collapsed": false,
    "scrolled": false
   },
   "outputs": [
    {
     "data": {
      "image/png": "[encoded data removed]",
      "text/plain": [
       "<matplotlib.figure.Figure at 0xc434ef0>"
      ]
     },
     "metadata": {},
     "output_type": "display_data"
    }
   ],
   "source": [
    "y_pos = np.arange(len(features))\n",
    "plt.bar(y_pos,model.feature_importances_, align='center',alpha=0.5)\n",
    "plt.xticks(y_pos, features)\n",
    "plt.title('Pima Feature Importances')\n",
    "plt.xticks(rotation=90)\n",
    "plt.show()\n"
   ]
  },
  {
   "cell_type": "markdown",
   "metadata": {},
   "source": [
    "Dump the trained model to a .pkl file which we can re-use later"
   ]
  },
  {
   "cell_type": "code",
   "execution_count": null,
   "metadata": {
    "collapsed": true
   },
   "outputs": [],
   "source": [
    "joblib.dump(model, 'C:/Users/nmannheimer/Desktop/DataScience/TabPy Training/Completed Models/JupyterPimaForest.pkl')"
   ]
  }
 ],
 "metadata": {
  "kernelspec": {
   "display_name": "Python 2",
   "language": "python",
   "name": "python2"
  },
  "language_info": {
   "codemirror_mode": {
    "name": "ipython",
    "version": 2
   },
   "file_extension": ".py",
   "mimetype": "text/x-python",
   "name": "python",
   "nbconvert_exporter": "python",
   "pygments_lexer": "ipython2",
   "version": "2.7.11"
  }
 },
 "nbformat": 4,
 "nbformat_minor": 0
}
